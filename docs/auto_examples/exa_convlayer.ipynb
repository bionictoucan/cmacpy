{
  "cells": [
    {
      "cell_type": "code",
      "execution_count": null,
      "metadata": {
        "collapsed": false
      },
      "outputs": [],
      "source": [
        "%matplotlib inline"
      ]
    },
    {
      "cell_type": "markdown",
      "metadata": {},
      "source": [
        "\n\n# Using the Convolutional Layer\nConvolutions are an important tool in image processing and a key part to using\ndeep learning for image analysis. For a *very* good intuitive example on how\nconvolutions work see `this blog post\n<https://betterexplained.com/articles/intuitive-convolution/>`_. For now, we\nwill focus on the two dimensional convolution between an image and a kernel.\nRealistically, an image is just a matrix of numbers. The job of the kernel is to\nhighlight relevant information in the image with the resulting convolution\nquantifying the result of overlapping areas of the image with the kernel. This\nis shown pictorially below.\n\n<img src=\"file://../images/conv.png\" width=\"600\" align=\"center\">\n\nThe image is the $4 \\times 4$ array and the kernel is the $2\n\\times 2$ array. Each result from the convolution is the weighted sum of the\nkernel and a region of the image e.g. following the example above\n\n\\begin{align}y_{1} &= \\theta_{1} x_{1} + \\theta_{2} x_{2} + \\theta_{3} x_{5} + \\theta_{4} x_{6}\n\n    y_{2} &= \\theta_{1} x_{2} + \\theta_{2} x_{3} + \\theta_{3} x_{6} +\n    \\theta_{4} x_{7}\n\n    &\\vdots\n\n    y_{9} &= \\theta_{1} x_{11} + \\theta_{2} x_{12} + \\theta_{3} x_{15} +\n    \\theta_{4} x_{16}\\end{align}\n\n\nFor a specially designed kernel, important information can be extracted from the\nconvolution of the image and the kernel. For example, convolution can be used\nfor edge detection in images. This means that the value of the convolution would\nbe large when a group of pixels contains an edge and small otherwise. The main\nconcept behind using convolutions in deep learning is to have these kernels be\n*learnable*. Rather than having each pixel in an image assigned a learnable\nparameter, the learnable parameters are the values of the convoltional kernel.\nThe intuition is then that a kernel can learn to extract the information from\nthe image that is important for the function you want to approximate. We then\ndefine multiple kernels per layer of a network to extract a multitude of\nimportant information from a single image.\n\n.. admonition:: Terminology\n\n    **Feature map**: the result of the convolution of an image with a kernel\n"
      ]
    },
    {
      "cell_type": "code",
      "execution_count": null,
      "metadata": {
        "collapsed": false
      },
      "outputs": [],
      "source": [
        "from cmacpy.nn.neural_network_layers import ConvLayer"
      ]
    },
    {
      "cell_type": "markdown",
      "metadata": {},
      "source": [
        "All of the built-in layers were created to have a similar structure and way of\nbeing used. As such, ``ConvLayer``, which differs from ``FCLayer`` by using\nthe 2D convolution as the linear function in the layer, can be used with a lot\nof the same arguments given in `fclayer_exa` and `fclayer_adv_exa`.\nThe main difference are the arguments to set up the convolution differ from\nthose needed to set up the fully-connected operation. In particular,\n``ConvLayer`` (and subsequently ``ConvTranspLayer`` and ``ResLayer``) makes\nuse of Pytorch's ``nn.Conv2d`` which requires three parameters: the number of\ninput channels, the number of output channels and the kernel size.\n\n.. caution::\n    ``nn.Conv2d`` can be thought of somewhat as a misnomer -- while the\n    convolution being performed is in two spatial dimensions, the image and\n    the convolutional kernels need to be considered as three dimensional\n    objects to understand the input and output channels needed to define the\n    layer.\n\n"
      ]
    }
  ],
  "metadata": {
    "kernelspec": {
      "display_name": "Python 3",
      "language": "python",
      "name": "python3"
    },
    "language_info": {
      "codemirror_mode": {
        "name": "ipython",
        "version": 3
      },
      "file_extension": ".py",
      "mimetype": "text/x-python",
      "name": "python",
      "nbconvert_exporter": "python",
      "pygments_lexer": "ipython3",
      "version": "3.8.13"
    }
  },
  "nbformat": 4,
  "nbformat_minor": 0
}